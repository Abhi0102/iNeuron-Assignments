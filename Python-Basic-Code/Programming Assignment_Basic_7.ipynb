{
 "cells": [
  {
   "cell_type": "markdown",
   "id": "unable-family",
   "metadata": {},
   "source": [
    "Write a Python Program to find sum of array?"
   ]
  },
  {
   "cell_type": "code",
   "execution_count": 1,
   "id": "flying-tribe",
   "metadata": {},
   "outputs": [
    {
     "name": "stdout",
     "output_type": "stream",
     "text": [
      "Enter numbers seperated by space 4 5 6 3 6 2\n",
      "Sum = 26\n"
     ]
    }
   ],
   "source": [
    "inp = [ int(i) for i in input(\"Enter numbers seperated by space \").split()];\n",
    "s=0;\n",
    "for i in inp:\n",
    "    s+=i;\n",
    "print('Sum =',s)"
   ]
  },
  {
   "cell_type": "markdown",
   "id": "pursuant-median",
   "metadata": {},
   "source": [
    "Write a Python Program to find largest element in an array?"
   ]
  },
  {
   "cell_type": "code",
   "execution_count": 2,
   "id": "published-drain",
   "metadata": {},
   "outputs": [
    {
     "name": "stdout",
     "output_type": "stream",
     "text": [
      "Enter numbers seperated by space4 6 4 3 6 2 \n",
      "Largest = 6\n"
     ]
    }
   ],
   "source": [
    "inp = [ int(i) for i in input(\"Enter numbers seperated by space\").split()];\n",
    "print('Largest =',max(inp))"
   ]
  },
  {
   "cell_type": "markdown",
   "id": "every-investing",
   "metadata": {},
   "source": [
    "Write a Python Program for array rotation?"
   ]
  },
  {
   "cell_type": "code",
   "execution_count": 3,
   "id": "historic-boxing",
   "metadata": {},
   "outputs": [
    {
     "name": "stdout",
     "output_type": "stream",
     "text": [
      "Enter numbers seperated by space5 7 7 3 2 6\n",
      "Array = [5, 7, 7, 3, 2, 6]\n",
      "Reversed = [6, 2, 3, 7, 7, 5]\n"
     ]
    }
   ],
   "source": [
    "inp = [ int(i) for i in input(\"Enter numbers seperated by space\").split()];\n",
    "print(\"Array =\",inp)\n",
    "inp.reverse()\n",
    "print(\"Reversed =\",inp)"
   ]
  },
  {
   "cell_type": "markdown",
   "id": "pleasant-bookmark",
   "metadata": {},
   "source": [
    "Write a Python Program to Split the array and add the first part to the end?"
   ]
  },
  {
   "cell_type": "code",
   "execution_count": 4,
   "id": "musical-worse",
   "metadata": {},
   "outputs": [
    {
     "name": "stdout",
     "output_type": "stream",
     "text": [
      "Enter numbers seperated by space 8 5 3 4 2 6 2 6 2 5\n",
      "[8, 5, 3, 6, 2, 5]\n"
     ]
    }
   ],
   "source": [
    "inp = [ int(i) for i in input(\"Enter numbers seperated by space \").split()];\n",
    "# Concatinating first 3 and last 3 element of input array\n",
    "new_arr = inp[:3]+inp[-3:]\n",
    "print(new_arr)"
   ]
  },
  {
   "cell_type": "markdown",
   "id": "ordinary-passage",
   "metadata": {},
   "source": [
    "Write a Python Program to check if given array is Monotonic?"
   ]
  },
  {
   "cell_type": "code",
   "execution_count": 5,
   "id": "exotic-skiing",
   "metadata": {},
   "outputs": [
    {
     "name": "stdout",
     "output_type": "stream",
     "text": [
      "Enter numbers seperated by space 2 3 5 8 10\n",
      "Monotonic\n"
     ]
    }
   ],
   "source": [
    "inp = [ int(i) for i in input(\"Enter numbers seperated by space \").split()];\n",
    "def monotonic(arr):\n",
    "    return ((all(arr[i]>=arr[i+1] for i in range(0,len(arr)-1))\n",
    "            or all(arr[i]<=arr[i+1] for i in range(0,len(arr)-1))))\n",
    "if monotonic(inp):\n",
    "    print(\"Monotonic\");\n",
    "else:\n",
    "    print(\"Not Monotonic\");"
   ]
  }
 ],
 "metadata": {
  "kernelspec": {
   "display_name": "Python 3",
   "language": "python",
   "name": "python3"
  },
  "language_info": {
   "codemirror_mode": {
    "name": "ipython",
    "version": 3
   },
   "file_extension": ".py",
   "mimetype": "text/x-python",
   "name": "python",
   "nbconvert_exporter": "python",
   "pygments_lexer": "ipython3",
   "version": "3.7.6"
  }
 },
 "nbformat": 4,
 "nbformat_minor": 5
}
