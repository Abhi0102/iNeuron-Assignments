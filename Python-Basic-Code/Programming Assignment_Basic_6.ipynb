{
 "cells": [
  {
   "cell_type": "markdown",
   "id": "global-territory",
   "metadata": {},
   "source": [
    "Write a Python Program to Display Fibonacci Sequence Using Recursion?"
   ]
  },
  {
   "cell_type": "code",
   "execution_count": 1,
   "id": "continuous-spyware",
   "metadata": {},
   "outputs": [
    {
     "name": "stdout",
     "output_type": "stream",
     "text": [
      "Enter number of element for fib. series 8\n",
      "0\n",
      "1\n",
      "1\n",
      "2\n",
      "3\n",
      "5\n",
      "8\n",
      "13\n"
     ]
    }
   ],
   "source": [
    "def fibb(num):\n",
    "    if num == 0:\n",
    "        return 0;\n",
    "    elif num==1:\n",
    "        return 1;\n",
    "    else:\n",
    "        return fibb(num-1)+fibb(num-2)\n",
    "inp = int(input(\"Enter number of element for fib. series \"));\n",
    "for i in range(inp):\n",
    "    print(fibb(i))"
   ]
  },
  {
   "cell_type": "markdown",
   "id": "touched-bristol",
   "metadata": {},
   "source": [
    "Write a Python Program to Find Factorial of Number Using Recursion?"
   ]
  },
  {
   "cell_type": "code",
   "execution_count": 2,
   "id": "strong-statistics",
   "metadata": {},
   "outputs": [
    {
     "name": "stdout",
     "output_type": "stream",
     "text": [
      "Enter num to get factorial 6\n",
      "Factorial = 720\n"
     ]
    }
   ],
   "source": [
    "def fact(num):\n",
    "    if num==1 or num==0:\n",
    "        return 1;\n",
    "    else:\n",
    "        return num*fact(num-1)\n",
    "inp = int(input(\"Enter num to get factorial \"))\n",
    "print(\"Factorial =\",fact(inp))"
   ]
  },
  {
   "cell_type": "markdown",
   "id": "communist-juvenile",
   "metadata": {},
   "source": [
    "Write a Python Program to calculate your Body Mass Index?"
   ]
  },
  {
   "cell_type": "code",
   "execution_count": 3,
   "id": "confident-macedonia",
   "metadata": {},
   "outputs": [
    {
     "name": "stdout",
     "output_type": "stream",
     "text": [
      "Enter weight in kg 59\n",
      "Enter height in m 1.7\n",
      "BMI = 20.41522491349481\n"
     ]
    }
   ],
   "source": [
    "weight = float(input('Enter weight in kg '));\n",
    "height = float(input('Enter height in m '));\n",
    "print('BMI =', weight/height**2)"
   ]
  },
  {
   "cell_type": "markdown",
   "id": "comparable-anthony",
   "metadata": {},
   "source": [
    "Write a Python Program to calculate the natural logarithm of any number?"
   ]
  },
  {
   "cell_type": "code",
   "execution_count": 4,
   "id": "alive-postcard",
   "metadata": {},
   "outputs": [
    {
     "name": "stdout",
     "output_type": "stream",
     "text": [
      "Enter the number to caculate log 8\n",
      "Log = 2.0794415416798357\n"
     ]
    }
   ],
   "source": [
    "import math\n",
    "inp = float(input(\"Enter the number to caculate log \"))\n",
    "print('Log =', math.log(inp))"
   ]
  },
  {
   "cell_type": "markdown",
   "id": "sunrise-addition",
   "metadata": {},
   "source": [
    "Write a Python Program for cube sum of first n natural numbers?"
   ]
  },
  {
   "cell_type": "code",
   "execution_count": 5,
   "id": "french-johns",
   "metadata": {},
   "outputs": [
    {
     "name": "stdout",
     "output_type": "stream",
     "text": [
      "Enter the number 5\n",
      "Cube sum of 5 nos. = 225\n"
     ]
    }
   ],
   "source": [
    "inp = int(input(\"Enter the number \"))\n",
    "sum=0\n",
    "for i in range(1,inp+1):\n",
    "    sum+=i**3\n",
    "print(\"Cube sum of\",inp,\"nos. =\",sum);"
   ]
  }
 ],
 "metadata": {
  "kernelspec": {
   "display_name": "Python 3",
   "language": "python",
   "name": "python3"
  },
  "language_info": {
   "codemirror_mode": {
    "name": "ipython",
    "version": 3
   },
   "file_extension": ".py",
   "mimetype": "text/x-python",
   "name": "python",
   "nbconvert_exporter": "python",
   "pygments_lexer": "ipython3",
   "version": "3.7.6"
  }
 },
 "nbformat": 4,
 "nbformat_minor": 5
}
