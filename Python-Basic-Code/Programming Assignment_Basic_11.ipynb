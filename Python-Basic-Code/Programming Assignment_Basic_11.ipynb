{
 "cells": [
  {
   "cell_type": "markdown",
   "id": "unable-family",
   "metadata": {},
   "source": [
    "Write a Python program to find words which are greater than given length k?"
   ]
  },
  {
   "cell_type": "code",
   "execution_count": 1,
   "id": "successful-delhi",
   "metadata": {},
   "outputs": [
    {
     "name": "stdout",
     "output_type": "stream",
     "text": [
      "Enter the Sentence- Hello this is a sample program to check no. of words greater than k\n",
      "Enter the length of word- 4\n",
      "No. of words greater than 4 are 6\n"
     ]
    }
   ],
   "source": [
    "st = input('Enter the Sentence- ').split()\n",
    "k = int(input('Enter the length of word- '))\n",
    "c=0\n",
    "for i in st:\n",
    "    if len(i)>k:\n",
    "        c+=1\n",
    "print('No. of words greater than',k,'are',c)"
   ]
  },
  {
   "cell_type": "markdown",
   "id": "mounted-direction",
   "metadata": {},
   "source": [
    "Write a Python program for removing i-th character from a string?"
   ]
  },
  {
   "cell_type": "code",
   "execution_count": 3,
   "id": "present-solomon",
   "metadata": {},
   "outputs": [
    {
     "name": "stdout",
     "output_type": "stream",
     "text": [
      "Enter the string- String\n",
      "Enter the position of the char to remove- 3\n",
      "Strng\n"
     ]
    }
   ],
   "source": [
    "st = input('Enter the string- ')\n",
    "i = int(input('Enter the position of the char to remove- '))\n",
    "st = st[:i]+st[i+1:]\n",
    "print(st)"
   ]
  },
  {
   "cell_type": "markdown",
   "id": "included-geology",
   "metadata": {},
   "source": [
    "Write a Python program to split and join a string?"
   ]
  },
  {
   "cell_type": "code",
   "execution_count": 5,
   "id": "prostate-halloween",
   "metadata": {},
   "outputs": [
    {
     "name": "stdout",
     "output_type": "stream",
     "text": [
      "Enter the string- Hello this is a sample program to check split and join.\n",
      "String after split by space ['Hello', 'this', 'is', 'a', 'sample', 'program', 'to', 'check', 'split', 'and', 'join.']\n",
      "String after joining Hello this is a sample program to check split and join.\n"
     ]
    }
   ],
   "source": [
    "st = input('Enter the string- ').split()\n",
    "print('String after split by space', st)\n",
    "st=' '.join(st)\n",
    "print('String after joining', st)"
   ]
  },
  {
   "cell_type": "markdown",
   "id": "lightweight-action",
   "metadata": {},
   "source": [
    "Write a Python to check if a given string is binary string or not?"
   ]
  },
  {
   "cell_type": "code",
   "execution_count": 8,
   "id": "revised-christmas",
   "metadata": {},
   "outputs": [
    {
     "name": "stdout",
     "output_type": "stream",
     "text": [
      "Enter the string to check if it is binary- 01001\n",
      "String is Binary\n"
     ]
    }
   ],
   "source": [
    "st = input('Enter the string to check if it is binary- ')\n",
    "for i in st:\n",
    "    if i not in ['0','1']:\n",
    "        print('String is not Binary')\n",
    "        break\n",
    "else:\n",
    "    print('String is Binary')"
   ]
  },
  {
   "cell_type": "markdown",
   "id": "married-sunglasses",
   "metadata": {},
   "source": [
    "Write a Python program to find uncommon words from two Strings?"
   ]
  },
  {
   "cell_type": "code",
   "execution_count": 9,
   "id": "dressed-blood",
   "metadata": {},
   "outputs": [
    {
     "name": "stdout",
     "output_type": "stream",
     "text": [
      "Enter the string 1- Enter the string to check if it is binary\n",
      "Enter the string 2- Enter the string to check uncommon words from two Strings\n",
      "Uncommon Words Are- {'it', 'words', 'binary', 'if', 'two', 'uncommon', 'is', 'from', 'Strings'}\n"
     ]
    }
   ],
   "source": [
    "st1 = set(input('Enter the string 1- ').split())\n",
    "st2 = set(input('Enter the string 2- ').split())\n",
    "print('Uncommon Words Are-',st1.symmetric_difference(st2))"
   ]
  },
  {
   "cell_type": "markdown",
   "id": "pursuant-median",
   "metadata": {},
   "source": [
    "Write a Python to find all duplicate characters in string?"
   ]
  },
  {
   "cell_type": "code",
   "execution_count": 12,
   "id": "applied-broadcast",
   "metadata": {},
   "outputs": [
    {
     "name": "stdout",
     "output_type": "stream",
     "text": [
      "Enter the string- Helloopad\n",
      "Duplicate Characters are- {'l', 'o'}\n"
     ]
    }
   ],
   "source": [
    "st1 = input('Enter the string- ')\n",
    "set_dup=set()\n",
    "for i in st1:\n",
    "    if st1.count(i)>1:\n",
    "        set_dup.add(i)\n",
    "print('Duplicate Characters are-',set_dup)"
   ]
  },
  {
   "cell_type": "markdown",
   "id": "every-investing",
   "metadata": {},
   "source": [
    "Write a Python Program to check if a string contains any special character?"
   ]
  },
  {
   "cell_type": "code",
   "execution_count": 13,
   "id": "historic-boxing",
   "metadata": {},
   "outputs": [
    {
     "name": "stdout",
     "output_type": "stream",
     "text": [
      "Enter the string- Hello there !\n",
      "Special Char\n"
     ]
    }
   ],
   "source": [
    "import re\n",
    "st1 = input('Enter the string- ')\n",
    "special = re.compile('[@_!#$%^&*()<>?/\\|}{~:]')\n",
    "if(special.search(st1) == None):\n",
    "    print('No Special Char')\n",
    "else:\n",
    "    print('Special Char')"
   ]
  }
 ],
 "metadata": {
  "kernelspec": {
   "display_name": "Python 3",
   "language": "python",
   "name": "python3"
  },
  "language_info": {
   "codemirror_mode": {
    "name": "ipython",
    "version": 3
   },
   "file_extension": ".py",
   "mimetype": "text/x-python",
   "name": "python",
   "nbconvert_exporter": "python",
   "pygments_lexer": "ipython3",
   "version": "3.7.6"
  }
 },
 "nbformat": 4,
 "nbformat_minor": 5
}
