{
 "cells": [
  {
   "cell_type": "markdown",
   "id": "quiet-guarantee",
   "metadata": {},
   "source": [
    "Write a Python Program to Find the Factorial of a Number?"
   ]
  },
  {
   "cell_type": "code",
   "execution_count": 1,
   "id": "designed-chance",
   "metadata": {},
   "outputs": [
    {
     "name": "stdout",
     "output_type": "stream",
     "text": [
      "Enter an Integer 6\n",
      "720\n"
     ]
    }
   ],
   "source": [
    "a= int(input('Enter an Integer '));\n",
    "fact=1;\n",
    "for i in range(2,a+1):\n",
    "    fact*=i;\n",
    "print(fact);"
   ]
  },
  {
   "cell_type": "markdown",
   "id": "binary-journalist",
   "metadata": {},
   "source": [
    "Write a Python Program to Display the multiplication Table?"
   ]
  },
  {
   "cell_type": "code",
   "execution_count": 2,
   "id": "typical-conservation",
   "metadata": {},
   "outputs": [
    {
     "name": "stdout",
     "output_type": "stream",
     "text": [
      "Enter the number 7\n",
      "7 * 1 = 7\n",
      "7 * 2 = 14\n",
      "7 * 3 = 21\n",
      "7 * 4 = 28\n",
      "7 * 5 = 35\n",
      "7 * 6 = 42\n",
      "7 * 7 = 49\n",
      "7 * 8 = 56\n",
      "7 * 9 = 63\n",
      "7 * 10 = 70\n"
     ]
    }
   ],
   "source": [
    "a= int(input('Enter the number '));\n",
    "for i in range(1,11):\n",
    "    print(a,'*',i,\"=\",a*i)"
   ]
  },
  {
   "cell_type": "markdown",
   "id": "rational-bunch",
   "metadata": {},
   "source": [
    "Write a Python Program to Print the Fibonacci sequence?"
   ]
  },
  {
   "cell_type": "code",
   "execution_count": 3,
   "id": "herbal-manual",
   "metadata": {},
   "outputs": [
    {
     "name": "stdout",
     "output_type": "stream",
     "text": [
      "Number of elements you want to print 7\n",
      "0\n",
      "1\n",
      "1\n",
      "2\n",
      "3\n",
      "5\n",
      "8\n"
     ]
    }
   ],
   "source": [
    "num= int(input('Number of elements you want to print '));\n",
    "a=0;\n",
    "b=1;\n",
    "if num <=2:\n",
    "    for i in range(num):\n",
    "        print(i);\n",
    "else:\n",
    "    count=0\n",
    "    while count<num:\n",
    "        print(a);\n",
    "        a,b=b,a+b;\n",
    "        count+=1;"
   ]
  },
  {
   "cell_type": "markdown",
   "id": "annoying-aviation",
   "metadata": {},
   "source": [
    "Write a Python Program to Check Armstrong Number?"
   ]
  },
  {
   "cell_type": "code",
   "execution_count": 4,
   "id": "collective-fundamentals",
   "metadata": {},
   "outputs": [
    {
     "name": "stdout",
     "output_type": "stream",
     "text": [
      "Enter a number 1000\n",
      "Not Amstrong\n"
     ]
    }
   ],
   "source": [
    "num= input('Enter a number ');\n",
    "temp = num;\n",
    "sum=0;\n",
    "while temp!='':\n",
    "    k=temp[-1];\n",
    "    sum+=int(k)**3;\n",
    "    temp=temp[:-1];\n",
    "if sum==int(num):\n",
    "    print('Amstrong');\n",
    "else:\n",
    "    print(\"Not Amstrong\")"
   ]
  },
  {
   "cell_type": "markdown",
   "id": "naked-hypothesis",
   "metadata": {},
   "source": [
    "Write a Python Program to Find Armstrong Number in an Interval?"
   ]
  },
  {
   "cell_type": "code",
   "execution_count": 5,
   "id": "cognitive-horror",
   "metadata": {},
   "outputs": [
    {
     "name": "stdout",
     "output_type": "stream",
     "text": [
      "Enter a number 1000\n",
      "Amstrong Number 1\n",
      "Amstrong Number 153\n",
      "Amstrong Number 370\n",
      "Amstrong Number 371\n",
      "Amstrong Number 407\n"
     ]
    }
   ],
   "source": [
    "num= int(input('Enter a number '));\n",
    "for i in range (1,num+1):\n",
    "    temp = str(i);\n",
    "    sum=0;\n",
    "    while temp!='':\n",
    "        k=temp[-1];\n",
    "        sum+=int(k)**3;\n",
    "        temp=temp[:-1];\n",
    "    if sum==int(i):\n",
    "        print('Amstrong Number', i);"
   ]
  },
  {
   "cell_type": "markdown",
   "id": "criminal-setup",
   "metadata": {},
   "source": [
    "Write a Python Program to Find the Sum of Natural Numbers?"
   ]
  },
  {
   "cell_type": "code",
   "execution_count": 6,
   "id": "traditional-innocent",
   "metadata": {},
   "outputs": [
    {
     "name": "stdout",
     "output_type": "stream",
     "text": [
      "Enter a number 6\n",
      "Sum of n natural no. 21\n"
     ]
    }
   ],
   "source": [
    "num= int(input('Enter a number '));\n",
    "sum=0;\n",
    "for i in range(1,num+1):\n",
    "    sum+=i;\n",
    "print(\"Sum of n natural no.\",sum)"
   ]
  }
 ],
 "metadata": {
  "kernelspec": {
   "display_name": "Python 3",
   "language": "python",
   "name": "python3"
  },
  "language_info": {
   "codemirror_mode": {
    "name": "ipython",
    "version": 3
   },
   "file_extension": ".py",
   "mimetype": "text/x-python",
   "name": "python",
   "nbconvert_exporter": "python",
   "pygments_lexer": "ipython3",
   "version": "3.7.6"
  }
 },
 "nbformat": 4,
 "nbformat_minor": 5
}
