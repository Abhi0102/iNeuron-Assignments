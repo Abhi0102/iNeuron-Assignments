{
 "cells": [
  {
   "cell_type": "markdown",
   "id": "faced-venezuela",
   "metadata": {},
   "source": [
    "Write a Python program to print \"Hello Python\"?"
   ]
  },
  {
   "cell_type": "code",
   "execution_count": 1,
   "id": "alternative-brunswick",
   "metadata": {},
   "outputs": [
    {
     "name": "stdout",
     "output_type": "stream",
     "text": [
      "Hello Pyhton\n"
     ]
    }
   ],
   "source": [
    "print('Hello Pyhton');"
   ]
  },
  {
   "cell_type": "markdown",
   "id": "actual-candy",
   "metadata": {},
   "source": [
    "Write a Python program to do arithmetical operations addition and division.?"
   ]
  },
  {
   "cell_type": "code",
   "execution_count": 2,
   "id": "native-cricket",
   "metadata": {},
   "outputs": [
    {
     "data": {
      "text/plain": [
       "1.0"
      ]
     },
     "execution_count": 2,
     "metadata": {},
     "output_type": "execute_result"
    }
   ],
   "source": [
    "a=10;\n",
    "b=20;\n",
    "c=30;\n",
    "d=(a+b)/c;\n",
    "d"
   ]
  },
  {
   "cell_type": "markdown",
   "id": "statistical-manitoba",
   "metadata": {},
   "source": [
    "Write a Python program to find the area of a triangle?"
   ]
  },
  {
   "cell_type": "code",
   "execution_count": 3,
   "id": "varied-valuable",
   "metadata": {},
   "outputs": [
    {
     "name": "stdout",
     "output_type": "stream",
     "text": [
      "6.0\n"
     ]
    }
   ],
   "source": [
    "import math\n",
    "side1 = 3;\n",
    "side2 = 4;\n",
    "side3 = 5;\n",
    "k = (side1+side2+side3)/2;\n",
    "area = (math.sqrt(k*(k-side1)*(k-side2)*(k-side3)));\n",
    "print(area);"
   ]
  },
  {
   "cell_type": "markdown",
   "id": "strange-portal",
   "metadata": {},
   "source": [
    "Write a Python program to swap two variables?"
   ]
  },
  {
   "cell_type": "code",
   "execution_count": 4,
   "id": "laughing-copyright",
   "metadata": {},
   "outputs": [
    {
     "name": "stdout",
     "output_type": "stream",
     "text": [
      "Before Swap\n",
      "a= 15\n",
      "b= 20\n",
      "After Swap\n",
      "a= 20\n",
      "b= 15\n"
     ]
    }
   ],
   "source": [
    "a=15;\n",
    "b=20;\n",
    "print('Before Swap');\n",
    "print('a=',a);\n",
    "print('b=',b);\n",
    "a,b = b,a;\n",
    "print('After Swap');\n",
    "print('a=',a);\n",
    "print('b=',b);"
   ]
  },
  {
   "cell_type": "markdown",
   "id": "multiple-remove",
   "metadata": {},
   "source": [
    "Write a Python program to generate a random number?"
   ]
  },
  {
   "cell_type": "code",
   "execution_count": 5,
   "id": "obvious-contrary",
   "metadata": {},
   "outputs": [
    {
     "name": "stdout",
     "output_type": "stream",
     "text": [
      "88\n"
     ]
    }
   ],
   "source": [
    "import random;\n",
    "#Random int between 0 & 100\n",
    "print(random.randint(0,100))"
   ]
  }
 ],
 "metadata": {
  "kernelspec": {
   "display_name": "Python 3",
   "language": "python",
   "name": "python3"
  },
  "language_info": {
   "codemirror_mode": {
    "name": "ipython",
    "version": 3
   },
   "file_extension": ".py",
   "mimetype": "text/x-python",
   "name": "python",
   "nbconvert_exporter": "python",
   "pygments_lexer": "ipython3",
   "version": "3.7.6"
  }
 },
 "nbformat": 4,
 "nbformat_minor": 5
}
