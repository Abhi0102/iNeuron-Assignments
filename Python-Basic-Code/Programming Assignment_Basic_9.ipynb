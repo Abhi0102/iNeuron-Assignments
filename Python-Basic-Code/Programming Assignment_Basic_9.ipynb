{
 "cells": [
  {
   "cell_type": "markdown",
   "id": "unable-family",
   "metadata": {},
   "source": [
    "Write a Python program to check if the given number is a Disarium Number?"
   ]
  },
  {
   "cell_type": "code",
   "execution_count": 13,
   "id": "flying-tribe",
   "metadata": {},
   "outputs": [
    {
     "name": "stdout",
     "output_type": "stream",
     "text": [
      "Enter the number 175\n",
      "Disarium Number\n"
     ]
    }
   ],
   "source": [
    "num=input(\"Enter the number \");\n",
    "numLength=len(num);\n",
    "sum=0;\n",
    "for i in range(0,numLength):\n",
    "    sum+=int(num[i])**(i+1);\n",
    "if(sum==int(num)):\n",
    "    print(\"Disarium Number\")\n",
    "else:\n",
    "    print(\"Not a Disarium Number\");"
   ]
  },
  {
   "cell_type": "markdown",
   "id": "pursuant-median",
   "metadata": {},
   "source": [
    "Write a Python program to print all disarium numbers between 1 to 100?"
   ]
  },
  {
   "cell_type": "code",
   "execution_count": 14,
   "id": "published-drain",
   "metadata": {},
   "outputs": [
    {
     "name": "stdout",
     "output_type": "stream",
     "text": [
      "Disarium Number - 0\n",
      "Disarium Number - 1\n",
      "Disarium Number - 2\n",
      "Disarium Number - 3\n",
      "Disarium Number - 4\n",
      "Disarium Number - 5\n",
      "Disarium Number - 6\n",
      "Disarium Number - 7\n",
      "Disarium Number - 8\n",
      "Disarium Number - 9\n",
      "Disarium Number - 89\n"
     ]
    }
   ],
   "source": [
    "for j in range(101):\n",
    "    num = str(j)\n",
    "    numLength=len(num);\n",
    "    sum=0;\n",
    "    for i in range(0,numLength):\n",
    "        sum+=int(num[i])**(i+1);\n",
    "    if(sum==int(num)):\n",
    "        print(\"Disarium Number -\",num);"
   ]
  },
  {
   "cell_type": "markdown",
   "id": "every-investing",
   "metadata": {},
   "source": [
    "Write a Python program to check if the given number is Happy Number?"
   ]
  },
  {
   "cell_type": "code",
   "execution_count": 21,
   "id": "historic-boxing",
   "metadata": {},
   "outputs": [
    {
     "name": "stdout",
     "output_type": "stream",
     "text": [
      "Enter the Number 76\n",
      "Unhappy Number\n"
     ]
    }
   ],
   "source": [
    "def checkHappy(num):\n",
    "    sum=0;\n",
    "    while(num>0):\n",
    "        sum+=(num%10)**2;\n",
    "        num=num//10;\n",
    "    return sum;\n",
    "\n",
    "def isHappy(num):\n",
    "    res=num;\n",
    "    while res!=1 and res!=4:\n",
    "        res = checkHappy(res);\n",
    "    if(res == 1):\n",
    "        print('Happy Number');\n",
    "    elif(res == 4):\n",
    "        print('Unhappy Number');\n",
    "inp = int(input('Enter the Number '));\n",
    "isHappy(inp);"
   ]
  },
  {
   "cell_type": "markdown",
   "id": "pleasant-bookmark",
   "metadata": {},
   "source": [
    "Write a Python program to print all happy numbers between 1 and 100?"
   ]
  },
  {
   "cell_type": "code",
   "execution_count": 26,
   "id": "musical-worse",
   "metadata": {},
   "outputs": [
    {
     "name": "stdout",
     "output_type": "stream",
     "text": [
      "Happy Number = 1\n",
      "Happy Number = 7\n",
      "Happy Number = 10\n",
      "Happy Number = 13\n",
      "Happy Number = 19\n",
      "Happy Number = 23\n",
      "Happy Number = 28\n",
      "Happy Number = 31\n",
      "Happy Number = 32\n",
      "Happy Number = 44\n",
      "Happy Number = 49\n",
      "Happy Number = 68\n",
      "Happy Number = 70\n",
      "Happy Number = 79\n",
      "Happy Number = 82\n",
      "Happy Number = 86\n",
      "Happy Number = 91\n",
      "Happy Number = 94\n",
      "Happy Number = 97\n",
      "Happy Number = 100\n"
     ]
    }
   ],
   "source": [
    "def checkHappy(num):\n",
    "    sum=0;\n",
    "    while(num>0):\n",
    "        sum+=(num%10)**2;\n",
    "        num=num//10;\n",
    "    return sum;\n",
    "\n",
    "def isHappy(num):\n",
    "    res=num;\n",
    "    while res!=1 and res!=4:\n",
    "        res = checkHappy(res);\n",
    "    if(res == 1):\n",
    "        print('Happy Number =',num);\n",
    "#     elif(res == 4):\n",
    "#         print('Unhappy Number');\n",
    "for i in range(1,101):\n",
    "    isHappy(i);"
   ]
  },
  {
   "cell_type": "markdown",
   "id": "ordinary-passage",
   "metadata": {},
   "source": [
    "Write a Python program to determine whether the given number is a Harshad Number?"
   ]
  },
  {
   "cell_type": "code",
   "execution_count": 29,
   "id": "exotic-skiing",
   "metadata": {},
   "outputs": [
    {
     "name": "stdout",
     "output_type": "stream",
     "text": [
      "Enter the number 156\n",
      "Harshad Number\n"
     ]
    }
   ],
   "source": [
    "num=int(input(\"Enter the number \"));\n",
    "sum=0;\n",
    "temp=num;\n",
    "while temp>0:\n",
    "    sum+=temp%10;\n",
    "    temp//=10;\n",
    "if(num%sum==0):\n",
    "    print('Harshad Number');\n",
    "else:\n",
    "    print('Not Harshad Number')"
   ]
  },
  {
   "cell_type": "markdown",
   "id": "protected-motor",
   "metadata": {},
   "source": [
    "Write a Python program to print all pronic numbers between 1 and 100?"
   ]
  },
  {
   "cell_type": "code",
   "execution_count": 31,
   "id": "flush-relationship",
   "metadata": {},
   "outputs": [
    {
     "name": "stdout",
     "output_type": "stream",
     "text": [
      "0 2 6 12 20 30 42 56 72 90 "
     ]
    }
   ],
   "source": [
    "count=0;\n",
    "while True:\n",
    "    sum=count*(count+1);\n",
    "    if(sum>100):\n",
    "        break\n",
    "    else:\n",
    "        print(sum,end=' ');\n",
    "        count+=1;"
   ]
  }
 ],
 "metadata": {
  "kernelspec": {
   "display_name": "Python 3",
   "language": "python",
   "name": "python3"
  },
  "language_info": {
   "codemirror_mode": {
    "name": "ipython",
    "version": 3
   },
   "file_extension": ".py",
   "mimetype": "text/x-python",
   "name": "python",
   "nbconvert_exporter": "python",
   "pygments_lexer": "ipython3",
   "version": "3.7.6"
  }
 },
 "nbformat": 4,
 "nbformat_minor": 5
}
