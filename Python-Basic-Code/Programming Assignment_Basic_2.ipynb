{
 "cells": [
  {
   "cell_type": "markdown",
   "id": "surrounded-romance",
   "metadata": {},
   "source": [
    "Write a Python program to convert kilometers to miles?"
   ]
  },
  {
   "cell_type": "code",
   "execution_count": 1,
   "id": "several-endorsement",
   "metadata": {},
   "outputs": [
    {
     "name": "stdout",
     "output_type": "stream",
     "text": [
      "Enter kilometers 2\n",
      "In Miles= 1.2430080795525171\n"
     ]
    }
   ],
   "source": [
    "kilo = int(input(\"Enter kilometers \"));\n",
    "print(\"In Miles=\",kilo/1.609)"
   ]
  },
  {
   "cell_type": "markdown",
   "id": "external-collect",
   "metadata": {},
   "source": [
    "Write a Python program to convert Celsius to Fahrenheit?"
   ]
  },
  {
   "cell_type": "code",
   "execution_count": 2,
   "id": "textile-request",
   "metadata": {},
   "outputs": [
    {
     "name": "stdout",
     "output_type": "stream",
     "text": [
      "Enter temp 36\n",
      "In Fahrenheit= 96.8\n"
     ]
    }
   ],
   "source": [
    "cel = int(input(\"Enter temp \"));\n",
    "print(\"In Fahrenheit=\",(9/5)*cel+32);"
   ]
  },
  {
   "cell_type": "markdown",
   "id": "surprised-fiction",
   "metadata": {},
   "source": [
    "Write a Python program to display calendar?"
   ]
  },
  {
   "cell_type": "code",
   "execution_count": 3,
   "id": "bound-gathering",
   "metadata": {},
   "outputs": [
    {
     "name": "stdout",
     "output_type": "stream",
     "text": [
      "   December 2021\n",
      "Mo Tu We Th Fr Sa Su\n",
      "       1  2  3  4  5\n",
      " 6  7  8  9 10 11 12\n",
      "13 14 15 16 17 18 19\n",
      "20 21 22 23 24 25 26\n",
      "27 28 29 30 31\n",
      "\n"
     ]
    }
   ],
   "source": [
    "import calendar\n",
    "print(calendar.month(2021,12))"
   ]
  },
  {
   "cell_type": "markdown",
   "id": "minus-absolute",
   "metadata": {},
   "source": [
    "Write a Python program to solve quadratic equation?"
   ]
  },
  {
   "cell_type": "code",
   "execution_count": 4,
   "id": "alternate-giving",
   "metadata": {},
   "outputs": [
    {
     "name": "stdout",
     "output_type": "stream",
     "text": [
      "root1= (2+0j)\n",
      "root2= (-12+0j)\n"
     ]
    }
   ],
   "source": [
    "import cmath;\n",
    "a=1;\n",
    "b=10;\n",
    "c=-24;\n",
    "eq=b**2 - 4*a*c;\n",
    "root1 = (-b + cmath.sqrt(eq))/(2*a);\n",
    "root2 = (-b - cmath.sqrt(eq))/(2*a);\n",
    "print('root1=',root1);\n",
    "print('root2=',root2);"
   ]
  },
  {
   "cell_type": "markdown",
   "id": "labeled-saskatchewan",
   "metadata": {},
   "source": [
    "Write a Python program to swap two variables without temp variable?"
   ]
  },
  {
   "cell_type": "code",
   "execution_count": 5,
   "id": "satisfied-attachment",
   "metadata": {},
   "outputs": [
    {
     "name": "stdout",
     "output_type": "stream",
     "text": [
      "Before Swap\n",
      "a= 15\n",
      "b= 20\n",
      "After Swap\n",
      "a= 20\n",
      "b= 15\n"
     ]
    }
   ],
   "source": [
    "import random;a=15;\n",
    "b=20;\n",
    "print('Before Swap');\n",
    "print('a=',a);\n",
    "print('b=',b);\n",
    "a,b = b,a;\n",
    "print('After Swap');\n",
    "print('a=',a);\n",
    "print('b=',b);"
   ]
  }
 ],
 "metadata": {
  "kernelspec": {
   "display_name": "Python 3",
   "language": "python",
   "name": "python3"
  },
  "language_info": {
   "codemirror_mode": {
    "name": "ipython",
    "version": 3
   },
   "file_extension": ".py",
   "mimetype": "text/x-python",
   "name": "python",
   "nbconvert_exporter": "python",
   "pygments_lexer": "ipython3",
   "version": "3.7.6"
  }
 },
 "nbformat": 4,
 "nbformat_minor": 5
}
