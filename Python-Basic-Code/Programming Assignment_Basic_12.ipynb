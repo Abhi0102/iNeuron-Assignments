{
 "cells": [
  {
   "cell_type": "markdown",
   "id": "unable-family",
   "metadata": {},
   "source": [
    "Write a Python program to Extract Unique values dictionary values?"
   ]
  },
  {
   "cell_type": "code",
   "execution_count": 1,
   "id": "successful-delhi",
   "metadata": {},
   "outputs": [
    {
     "name": "stdout",
     "output_type": "stream",
     "text": [
      "{1, 2, 3, 4, 5, 6, 7, 8, 9}\n"
     ]
    }
   ],
   "source": [
    "dict1 = {'a':[1,2,3,4],\n",
    "       'b': [4,3,5,6],\n",
    "       'c': [5,6,7,8,9,2]}\n",
    "uni = set()\n",
    "for i in dict1:\n",
    "    uni= set.union(uni,set(dict1[i]))\n",
    "print(uni)"
   ]
  },
  {
   "cell_type": "markdown",
   "id": "mounted-direction",
   "metadata": {},
   "source": [
    "Write a Python program to find the sum of all items in a dictionary?"
   ]
  },
  {
   "cell_type": "code",
   "execution_count": 2,
   "id": "present-solomon",
   "metadata": {},
   "outputs": [
    {
     "name": "stdout",
     "output_type": "stream",
     "text": [
      "65\n"
     ]
    }
   ],
   "source": [
    "total=0\n",
    "for i in dict1:\n",
    "    total+=sum(dict1[i])\n",
    "print(total)"
   ]
  },
  {
   "cell_type": "markdown",
   "id": "included-geology",
   "metadata": {},
   "source": [
    "Write a Python program to Merging two Dictionaries?"
   ]
  },
  {
   "cell_type": "code",
   "execution_count": 3,
   "id": "prostate-halloween",
   "metadata": {},
   "outputs": [
    {
     "name": "stdout",
     "output_type": "stream",
     "text": [
      "{'d': [2, 1, 2, 4], 'e': [3, 5, 8, 6], 'f': [13, 34, 27, 18, 19, 42], 'a': [1, 2, 3, 4], 'b': [4, 3, 5, 6], 'c': [5, 6, 7, 8, 9, 2]}\n"
     ]
    }
   ],
   "source": [
    "dict2 = {'d':[2,1,2,4],\n",
    "       'e': [3,5,8,6],\n",
    "       'f': [13,34,27,18,19,42]}\n",
    "dict2.update(dict1)\n",
    "print(dict2)"
   ]
  },
  {
   "cell_type": "markdown",
   "id": "lightweight-action",
   "metadata": {},
   "source": [
    "Write a Python program to convert key-values list to flat dictionary?"
   ]
  },
  {
   "cell_type": "code",
   "execution_count": 7,
   "id": "revised-christmas",
   "metadata": {},
   "outputs": [
    {
     "name": "stdout",
     "output_type": "stream",
     "text": [
      "{1: 'Abhishek', 2: 'Bhaskar', 3: 'Chirag'}\n"
     ]
    }
   ],
   "source": [
    "dict3 = {'Sno': [1,2,3],\n",
    "        'Name': ['Abhishek','Bhaskar','Chirag']}\n",
    "dict4= dict(zip(dict3['Sno'],dict3['Name']))\n",
    "print(dict4)"
   ]
  },
  {
   "cell_type": "markdown",
   "id": "married-sunglasses",
   "metadata": {},
   "source": [
    "Write a Python program to insertion at the beginning in OrderedDict?"
   ]
  },
  {
   "cell_type": "code",
   "execution_count": 16,
   "id": "dressed-blood",
   "metadata": {},
   "outputs": [
    {
     "name": "stdout",
     "output_type": "stream",
     "text": [
      "OrderedDict([('1', 'a'), ('2', 'b'), ('3', 'c')])\n"
     ]
    }
   ],
   "source": [
    "from collections import OrderedDict\n",
    "ord_dict = OrderedDict([('2','b'),('3','c')])\n",
    "ord_dict.update({'1':'a'})\n",
    "ord_dict.move_to_end('1',last=False)\n",
    "print(ord_dict)"
   ]
  },
  {
   "cell_type": "markdown",
   "id": "pursuant-median",
   "metadata": {},
   "source": [
    "Write a Python program to check order of character in string using OrderedDict()?"
   ]
  },
  {
   "cell_type": "code",
   "execution_count": 19,
   "id": "applied-broadcast",
   "metadata": {},
   "outputs": [
    {
     "name": "stdout",
     "output_type": "stream",
     "text": [
      "Enter the String- hello there\n",
      "Enter Pattern to check- ht\n",
      "Pattern Matched\n"
     ]
    }
   ],
   "source": [
    "st = input('Enter the String- ')\n",
    "pat= input('Enter Pattern to check- ')\n",
    "dic = OrderedDict.fromkeys(st)\n",
    "ptr=0\n",
    "for i in dic:\n",
    "    if i == pat[ptr]:\n",
    "        ptr+=1\n",
    "    if ptr==len(pat):\n",
    "        print('Pattern Matched')\n",
    "        break\n",
    "        \n",
    "else:\n",
    "    print('Pattern Not Found')"
   ]
  },
  {
   "cell_type": "markdown",
   "id": "every-investing",
   "metadata": {},
   "source": [
    "Write a Python program to sort Python Dictionaries by Key or value?"
   ]
  },
  {
   "cell_type": "code",
   "execution_count": 20,
   "id": "historic-boxing",
   "metadata": {},
   "outputs": [
    {
     "name": "stdout",
     "output_type": "stream",
     "text": [
      "OrderedDict([('a', 'See'), ('b', 'Abhishek'), ('d', 'There'), ('k', 'Hello')])\n"
     ]
    }
   ],
   "source": [
    "ord_dict = {'b':'Abhishek','k':'Hello', 'd':'There','a':'See'}\n",
    "sort_dict = OrderedDict(sorted(ord_dict.items()))\n",
    "print(sort_dict)"
   ]
  }
 ],
 "metadata": {
  "kernelspec": {
   "display_name": "Python 3",
   "language": "python",
   "name": "python3"
  },
  "language_info": {
   "codemirror_mode": {
    "name": "ipython",
    "version": 3
   },
   "file_extension": ".py",
   "mimetype": "text/x-python",
   "name": "python",
   "nbconvert_exporter": "python",
   "pygments_lexer": "ipython3",
   "version": "3.7.6"
  }
 },
 "nbformat": 4,
 "nbformat_minor": 5
}
