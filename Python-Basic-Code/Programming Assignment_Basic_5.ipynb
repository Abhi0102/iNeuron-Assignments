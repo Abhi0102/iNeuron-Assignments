{
 "cells": [
  {
   "cell_type": "markdown",
   "id": "adopted-speaker",
   "metadata": {},
   "source": [
    "Write a Python Program to Find LCM?"
   ]
  },
  {
   "cell_type": "code",
   "execution_count": 1,
   "id": "unavailable-tsunami",
   "metadata": {},
   "outputs": [
    {
     "name": "stdout",
     "output_type": "stream",
     "text": [
      "Enter First Number 4\n",
      "Enter Second Number7\n",
      "LCM =  28\n"
     ]
    }
   ],
   "source": [
    "a= int(input('Enter First Number '));\n",
    "b= int(input('Enter Second Number'));\n",
    "if a>b:\n",
    "    greater=a;\n",
    "else:\n",
    "    greater=b\n",
    "    \n",
    "while True:\n",
    "    if(greater%a==0 and greater%b==0):\n",
    "        print('LCM = ',greater);\n",
    "        break;\n",
    "    greater+=1;"
   ]
  },
  {
   "cell_type": "markdown",
   "id": "virtual-buddy",
   "metadata": {},
   "source": [
    "Write a Python Program to Find HCF?"
   ]
  },
  {
   "cell_type": "code",
   "execution_count": 2,
   "id": "engaged-twist",
   "metadata": {},
   "outputs": [
    {
     "name": "stdout",
     "output_type": "stream",
     "text": [
      "Enter First Number 12\n",
      "Enter Second Number14\n",
      "HCF = 2\n"
     ]
    }
   ],
   "source": [
    "a= int(input('Enter First Number '));\n",
    "b= int(input('Enter Second Number'));\n",
    "if a>b:\n",
    "    smaller=b;\n",
    "else:\n",
    "    smaller=a;\n",
    "for i in range(smaller,0,-1):\n",
    "    if(a%i==0 and b%i==0):\n",
    "        print('HCF =',i);\n",
    "        break"
   ]
  },
  {
   "cell_type": "markdown",
   "id": "extraordinary-financing",
   "metadata": {},
   "source": [
    "Write a Python Program to Convert Decimal to Binary, Octal and Hexadecimal?"
   ]
  },
  {
   "cell_type": "code",
   "execution_count": 3,
   "id": "informational-composite",
   "metadata": {},
   "outputs": [
    {
     "name": "stdout",
     "output_type": "stream",
     "text": [
      "Enter number to convert decimal to binary77\n",
      "Decimal to Binary = 1001101\n",
      "Decimal to Octal = 115\n",
      "Decimal to Hexadecimal = 4d\n"
     ]
    }
   ],
   "source": [
    "a = int(input(\"Enter number to convert decimal to binary\"));\n",
    "print(\"Decimal to Binary =\",bin(a).replace('0b',''));\n",
    "print(\"Decimal to Octal =\", oct(a).replace('0o',''));\n",
    "print(\"Decimal to Hexadecimal =\", hex(a).replace('0x',''));"
   ]
  },
  {
   "cell_type": "markdown",
   "id": "monthly-december",
   "metadata": {},
   "source": [
    "Write a Python Program To Find ASCII value of a character?"
   ]
  },
  {
   "cell_type": "code",
   "execution_count": 4,
   "id": "verbal-sacrifice",
   "metadata": {},
   "outputs": [
    {
     "name": "stdout",
     "output_type": "stream",
     "text": [
      "Enter a character to get the ASCII valuey\n",
      "ascii value = 121\n"
     ]
    }
   ],
   "source": [
    "a = input(\"Enter a character to get the ASCII value\");\n",
    "print(\"ascii value =\",ord(a));"
   ]
  },
  {
   "cell_type": "markdown",
   "id": "absent-butler",
   "metadata": {},
   "source": [
    "Write a Python Program to Make a Simple Calculator with 4 basic mathematical operations?"
   ]
  },
  {
   "cell_type": "code",
   "execution_count": 5,
   "id": "split-glenn",
   "metadata": {},
   "outputs": [
    {
     "name": "stdout",
     "output_type": "stream",
     "text": [
      "Simple Claculator to perform +,-,/,*\n",
      "Enter the operation you want to perform +\n",
      "Enter First Number 7\n",
      "Enter Second Number 5\n",
      "Ans = 12\n"
     ]
    }
   ],
   "source": [
    "print(\"Simple Claculator to perform +,-,/,*\");\n",
    "meth = input(\"Enter the operation you want to perform \");\n",
    "a = int(input(\"Enter First Number \"));\n",
    "b = int(input(\"Enter Second Number \"));\n",
    "if meth=='*':\n",
    "    print(\"Ans =\",a*b);\n",
    "elif meth=='/':\n",
    "    print(\"Ans =\",a/b);\n",
    "elif meth=='+':\n",
    "    print(\"Ans =\",a+b);\n",
    "else:\n",
    "    print(\"Ans =\", a-b);"
   ]
  }
 ],
 "metadata": {
  "kernelspec": {
   "display_name": "Python 3",
   "language": "python",
   "name": "python3"
  },
  "language_info": {
   "codemirror_mode": {
    "name": "ipython",
    "version": 3
   },
   "file_extension": ".py",
   "mimetype": "text/x-python",
   "name": "python",
   "nbconvert_exporter": "python",
   "pygments_lexer": "ipython3",
   "version": "3.7.6"
  }
 },
 "nbformat": 4,
 "nbformat_minor": 5
}
