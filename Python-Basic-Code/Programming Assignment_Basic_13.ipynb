{
 "cells": [
  {
   "cell_type": "markdown",
   "id": "unable-family",
   "metadata": {},
   "source": [
    "Question 1:\n",
    "\n",
    "Write a program that calculates and prints the value according to the given formula:\n",
    "\n",
    "Q = Square root of [(2 * C * D)/H]\n",
    "\n",
    "Following are the fixed values of C and H:\n",
    "\n",
    "C is 50. H is 30.\n",
    "D is the variable whose values should be input to your program in a comma-separated sequence."
   ]
  },
  {
   "cell_type": "code",
   "execution_count": 27,
   "id": "successful-delhi",
   "metadata": {},
   "outputs": [
    {
     "name": "stdout",
     "output_type": "stream",
     "text": [
      "Enter Series of Numbers seperated by comma- 100,150,180\n",
      "[18, 22, 24]\n"
     ]
    }
   ],
   "source": [
    "import math\n",
    "def calcQ(c,d,h):\n",
    "    return round(math.sqrt((2*c*d)/h))\n",
    "def calcQSeries(d):\n",
    "    li=[]\n",
    "    c=50\n",
    "    h=30\n",
    "    for i in d:\n",
    "        li.append(calcQ(c,i,h))\n",
    "    return li\n",
    "inp = [int(i) for i in input('Enter Series of Numbers seperated by comma- ').split(',')]\n",
    "\n",
    "print(calcQSeries(inp))"
   ]
  },
  {
   "cell_type": "markdown",
   "id": "mounted-direction",
   "metadata": {},
   "source": [
    "Question 2:\n",
    "Write a program which takes 2 digits, X,Y as input and generates a 2-dimensional array. The element value in the i-th row and j-th column of the array should be i*j.\n",
    "\n",
    "\n",
    "Note: i=0,1.., X-1; j=0,1,¡Y-1."
   ]
  },
  {
   "cell_type": "code",
   "execution_count": 29,
   "id": "present-solomon",
   "metadata": {},
   "outputs": [
    {
     "name": "stdout",
     "output_type": "stream",
     "text": [
      "[[0, 0, 0, 0, 0], [0, 1, 2, 3, 4], [0, 2, 4, 6, 8]]\n"
     ]
    }
   ],
   "source": [
    "def genArray(a,b):\n",
    "    li=[]\n",
    "    for i in range(a):\n",
    "        new_li = []\n",
    "        for j in range(b):\n",
    "            new_li.append(i*j)\n",
    "        li.append(new_li)\n",
    "    return li\n",
    "print(genArray(3,5))"
   ]
  },
  {
   "cell_type": "markdown",
   "id": "included-geology",
   "metadata": {},
   "source": [
    "Question 3: Write a program that accepts a comma separated sequence of words as input and prints the words in a comma-separated sequence after sorting them alphabetically.\n",
    "\n",
    "Suppose the following input is supplied to the program:\n",
    "without,hello,bag,world\n",
    "Then, the output should be:\n",
    "bag,hello,without,world"
   ]
  },
  {
   "cell_type": "code",
   "execution_count": 34,
   "id": "prostate-halloween",
   "metadata": {},
   "outputs": [
    {
     "name": "stdout",
     "output_type": "stream",
     "text": [
      "Enter Comma Seperated Words to arrange them alphabetically- without,hello,bag,world\n",
      "bag,hello,without,world\n"
     ]
    }
   ],
   "source": [
    "inp = input('Enter Comma Seperated Words to arrange them alphabetically- ').split(',')\n",
    "inp.sort()\n",
    "res = ','.join(inp)\n",
    "print(res)"
   ]
  },
  {
   "cell_type": "markdown",
   "id": "lightweight-action",
   "metadata": {},
   "source": [
    "Question 4:\n",
    "Write a program that accepts a sequence of whitespace separated words as input and prints the words after removing all duplicate words and sorting them alphanumerically.\n",
    "\n",
    "Suppose the following input is supplied to the program:\n",
    "\n",
    "hello world and practice makes perfect and hello world again\n",
    "\n",
    "Then, the output should be:\n",
    "\n",
    "again and hello makes perfect practice world\n"
   ]
  },
  {
   "cell_type": "code",
   "execution_count": 40,
   "id": "revised-christmas",
   "metadata": {},
   "outputs": [
    {
     "name": "stdout",
     "output_type": "stream",
     "text": [
      "Enter Space Seperated Words to arrange them alphabetically- hello world and practice makes perfect and hello world again\n",
      "again and hello makes perfect practice world\n"
     ]
    }
   ],
   "source": [
    "inp = input('Enter Space Seperated Words to arrange them alphabetically- ').split()\n",
    "unique_list = list(set(inp))\n",
    "unique_list.sort()\n",
    "op = ' '.join(unique_list)\n",
    "print(op)"
   ]
  },
  {
   "cell_type": "markdown",
   "id": "married-sunglasses",
   "metadata": {},
   "source": [
    "Question 5:\n",
    "Write a program that accepts a sentence and calculate the number of letters and digits.\n",
    "\n",
    "Suppose the following input is supplied to the program:\n",
    "hello world! 123\n",
    "Then, the output should be:\n",
    "LETTERS 10\n",
    "DIGITS 3"
   ]
  },
  {
   "cell_type": "code",
   "execution_count": 43,
   "id": "dressed-blood",
   "metadata": {},
   "outputs": [
    {
     "name": "stdout",
     "output_type": "stream",
     "text": [
      "Enter the Sentence- hello world! 123\n",
      "LETTERS 10 DIGITS 3\n"
     ]
    }
   ],
   "source": [
    "def calcLetAndDig(sent):\n",
    "    al = 0\n",
    "    nu = 0\n",
    "    for i in sent:\n",
    "        if(i.isalpha()):\n",
    "            al+=1\n",
    "        elif(i.isnumeric()):\n",
    "            nu+=1\n",
    "    return al,nu\n",
    "inp = input('Enter the Sentence- ')\n",
    "al,nu = calcLetAndDig(inp)\n",
    "print('LETTERS',al,'DIGITS',nu)"
   ]
  },
  {
   "cell_type": "markdown",
   "id": "pursuant-median",
   "metadata": {},
   "source": [
    "Question 6:\n",
    "A website requires the users to input username and password to register. Write a program to check the validity of password input by users.\n",
    "\n",
    "\n",
    "\n",
    "\n",
    "Following are the criteria for checking the password:\n",
    "\n",
    "\n",
    "\n",
    "\n",
    "1. At least 1 letter between [a-z]\n",
    "\n",
    "\n",
    "\n",
    "\n",
    "2. At least 1 number between [0-9]\n",
    "\n",
    "\n",
    "\n",
    "\n",
    "1. At least 1 letter between [A-Z]\n",
    "\n",
    "\n",
    "\n",
    "\n",
    "3. At least 1 character from [$#@]\n",
    "\n",
    "\n",
    "\n",
    "\n",
    "4. Minimum length of transaction password: 6\n",
    "\n",
    "\n",
    "\n",
    "\n",
    "5. Maximum length of transaction password: 12\n",
    "\n",
    "\n",
    "\n",
    "\n",
    "Your program should accept a sequence of comma separated passwords and will check them according to the above criteria. Passwords that match the criteria are to be printed, each separated by a comma.\n",
    "\n",
    "\n",
    "\n",
    "\n",
    "Example\n",
    "\n",
    "\n",
    "\n",
    "\n",
    "If the following passwords are given as input to the program:\n",
    "\n",
    "\n",
    "\n",
    "\n",
    "ABd1234@1,a F1#,2w3E*,2We3345\n",
    "\n",
    "\n",
    "\n",
    "\n",
    "Then, the output of the program should be:\n",
    "\n",
    "\n",
    "\n",
    "ABd1234@1\n"
   ]
  },
  {
   "cell_type": "code",
   "execution_count": 55,
   "id": "applied-broadcast",
   "metadata": {},
   "outputs": [
    {
     "name": "stdout",
     "output_type": "stream",
     "text": [
      "Enter Passwords seperated by ,- ABd1234@1,a F1#,2w3E*,2We3345\n",
      "['ABd1234@1']\n"
     ]
    }
   ],
   "source": [
    "import re\n",
    "def passwordChecker(pwd):\n",
    "    if len(pwd)<6 or len(pwd)>12:\n",
    "        return False\n",
    "    if (re.search('[A-Z]',pwd) and re.search('[a-z]',pwd) and re.search('[0-9]',pwd) and re.search('[$#@]',pwd)):\n",
    "        return True\n",
    "    else: \n",
    "        return False\n",
    "\n",
    "def corrPass(li):\n",
    "    cor_pwd=[]\n",
    "    for i in li:\n",
    "        if(passwordChecker(i)):\n",
    "            cor_pwd.append(i)\n",
    "    return cor_pwd\n",
    "\n",
    "inp = input('Enter Passwords seperated by ,- ').split(',')\n",
    "print(corrPass(inp))"
   ]
  }
 ],
 "metadata": {
  "kernelspec": {
   "display_name": "Python 3",
   "language": "python",
   "name": "python3"
  },
  "language_info": {
   "codemirror_mode": {
    "name": "ipython",
    "version": 3
   },
   "file_extension": ".py",
   "mimetype": "text/x-python",
   "name": "python",
   "nbconvert_exporter": "python",
   "pygments_lexer": "ipython3",
   "version": "3.7.6"
  }
 },
 "nbformat": 4,
 "nbformat_minor": 5
}
