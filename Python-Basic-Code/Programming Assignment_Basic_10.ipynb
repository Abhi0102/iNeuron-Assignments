{
 "cells": [
  {
   "cell_type": "markdown",
   "id": "unable-family",
   "metadata": {},
   "source": [
    "Write a Python program to find sum of elements in list?"
   ]
  },
  {
   "cell_type": "code",
   "execution_count": 1,
   "id": "successful-delhi",
   "metadata": {},
   "outputs": [
    {
     "name": "stdout",
     "output_type": "stream",
     "text": [
      "17\n"
     ]
    }
   ],
   "source": [
    "li= [1,2,4,2,3,5];\n",
    "print(sum(li))"
   ]
  },
  {
   "cell_type": "markdown",
   "id": "mounted-direction",
   "metadata": {},
   "source": [
    "Write a Python program to  Multiply all numbers in the list?"
   ]
  },
  {
   "cell_type": "code",
   "execution_count": 4,
   "id": "present-solomon",
   "metadata": {},
   "outputs": [
    {
     "name": "stdout",
     "output_type": "stream",
     "text": [
      "240\n"
     ]
    }
   ],
   "source": [
    "mul = 1;\n",
    "for i in li:\n",
    "    mul*=i;\n",
    "print(mul)"
   ]
  },
  {
   "cell_type": "markdown",
   "id": "included-geology",
   "metadata": {},
   "source": [
    "Write a Python program to find smallest number in a list?"
   ]
  },
  {
   "cell_type": "code",
   "execution_count": 5,
   "id": "prostate-halloween",
   "metadata": {},
   "outputs": [
    {
     "name": "stdout",
     "output_type": "stream",
     "text": [
      "1\n"
     ]
    }
   ],
   "source": [
    "print(min(li))"
   ]
  },
  {
   "cell_type": "markdown",
   "id": "lightweight-action",
   "metadata": {},
   "source": [
    "Write a Python program to find largest number in a list?"
   ]
  },
  {
   "cell_type": "code",
   "execution_count": 7,
   "id": "revised-christmas",
   "metadata": {},
   "outputs": [
    {
     "name": "stdout",
     "output_type": "stream",
     "text": [
      "5\n"
     ]
    }
   ],
   "source": [
    "print(max(li))"
   ]
  },
  {
   "cell_type": "markdown",
   "id": "married-sunglasses",
   "metadata": {},
   "source": [
    "Write a Python program to find second largest number in a list?"
   ]
  },
  {
   "cell_type": "code",
   "execution_count": 13,
   "id": "dressed-blood",
   "metadata": {},
   "outputs": [
    {
     "name": "stdout",
     "output_type": "stream",
     "text": [
      "8\n"
     ]
    }
   ],
   "source": [
    "li=[2,4,2,5,6,3,9,9,8]\n",
    "s = set(li)\n",
    "s = list(s)\n",
    "s.sort()\n",
    "print(s[-2])"
   ]
  },
  {
   "cell_type": "markdown",
   "id": "pursuant-median",
   "metadata": {},
   "source": [
    "Write a Python program to find N largest elements from a list?"
   ]
  },
  {
   "cell_type": "code",
   "execution_count": 27,
   "id": "applied-broadcast",
   "metadata": {},
   "outputs": [
    {
     "name": "stdout",
     "output_type": "stream",
     "text": [
      "Enter element of list seperated by space 5 5 3 2 4 5 3 2 19 8 87 63 67 8 8 9\n",
      "Enter nth largest element 3\n",
      "3 largest number is 63\n"
     ]
    }
   ],
   "source": [
    "li = input('Enter element of list seperated by space ')\n",
    "nth = int(input('Enter nth largest element '))\n",
    "li= [int(i) for i in li.split()]\n",
    "li = list(set(li))\n",
    "li.sort()\n",
    "print(nth,'largest number is',li[-nth])"
   ]
  },
  {
   "cell_type": "markdown",
   "id": "every-investing",
   "metadata": {},
   "source": [
    "Write a Python program to print even numbers in a list?"
   ]
  },
  {
   "cell_type": "code",
   "execution_count": 30,
   "id": "historic-boxing",
   "metadata": {},
   "outputs": [
    {
     "name": "stdout",
     "output_type": "stream",
     "text": [
      "Enter element of list seperated by space 2 4 3 8 12 10 3 5 7 3\n",
      "[2, 4, 8, 12, 10]\n"
     ]
    }
   ],
   "source": [
    "li = input('Enter element of list seperated by space ')\n",
    "li= [int(i) for i in li.split()]\n",
    "eve= [i for i in li if i%2==0 ]\n",
    "print(eve)"
   ]
  },
  {
   "cell_type": "markdown",
   "id": "pleasant-bookmark",
   "metadata": {},
   "source": [
    "Write a Python program to print odd numbers in a List?"
   ]
  },
  {
   "cell_type": "code",
   "execution_count": 31,
   "id": "musical-worse",
   "metadata": {},
   "outputs": [
    {
     "name": "stdout",
     "output_type": "stream",
     "text": [
      "Enter element of list seperated by space 2 4 3 8 12 10 3 5 7 3\n",
      "[3, 3, 5, 7, 3]\n"
     ]
    }
   ],
   "source": [
    "li = input('Enter element of list seperated by space ')\n",
    "li= [int(i) for i in li.split()]\n",
    "odd= [i for i in li if i%2!=0 ]\n",
    "print(odd)"
   ]
  },
  {
   "cell_type": "markdown",
   "id": "ordinary-passage",
   "metadata": {},
   "source": [
    "Write a Python program to Remove empty List from List?"
   ]
  },
  {
   "cell_type": "code",
   "execution_count": 36,
   "id": "exotic-skiing",
   "metadata": {},
   "outputs": [
    {
     "name": "stdout",
     "output_type": "stream",
     "text": [
      "[[1, 2, 4], [3, 5, 2], [4, 2, 4], [5, 3, 2], 34]\n"
     ]
    }
   ],
   "source": [
    "li = [[1,2,4],[3,5,2],[],[4,2,4],[5,3,2],[],34]\n",
    "while [] in li:\n",
    "    li.remove([])\n",
    "print(li)"
   ]
  },
  {
   "cell_type": "markdown",
   "id": "protected-motor",
   "metadata": {},
   "source": [
    "Write a Python program to Cloning or Copying a list?"
   ]
  },
  {
   "cell_type": "code",
   "execution_count": 38,
   "id": "flush-relationship",
   "metadata": {},
   "outputs": [
    {
     "data": {
      "text/plain": [
       "[1, 2, 3, 4, 2, 5]"
      ]
     },
     "execution_count": 38,
     "metadata": {},
     "output_type": "execute_result"
    }
   ],
   "source": [
    "li= [1,2,3,4,2,5]\n",
    "newLi = li.copy()\n",
    "newLi"
   ]
  },
  {
   "cell_type": "markdown",
   "id": "introductory-insurance",
   "metadata": {},
   "source": [
    "Write a Python program to Count occurrences of an element in a list?"
   ]
  },
  {
   "cell_type": "code",
   "execution_count": 40,
   "id": "considerable-climb",
   "metadata": {},
   "outputs": [
    {
     "name": "stdout",
     "output_type": "stream",
     "text": [
      "Enter element of list seperated by space 2 4 3 8 12 10 3 5 7 3\n",
      "Enter element which you would like to count3\n",
      "3\n"
     ]
    }
   ],
   "source": [
    "li = input('Enter element of list seperated by space ')\n",
    "c = int(input('Enter element which you would like to count'))\n",
    "li= [int(i) for i in li.split()]\n",
    "print(li.count(c))"
   ]
  }
 ],
 "metadata": {
  "kernelspec": {
   "display_name": "Python 3",
   "language": "python",
   "name": "python3"
  },
  "language_info": {
   "codemirror_mode": {
    "name": "ipython",
    "version": 3
   },
   "file_extension": ".py",
   "mimetype": "text/x-python",
   "name": "python",
   "nbconvert_exporter": "python",
   "pygments_lexer": "ipython3",
   "version": "3.7.6"
  }
 },
 "nbformat": 4,
 "nbformat_minor": 5
}
